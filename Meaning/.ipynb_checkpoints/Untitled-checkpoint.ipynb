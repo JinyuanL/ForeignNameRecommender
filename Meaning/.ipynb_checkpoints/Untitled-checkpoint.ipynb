{
 "cells": [
  {
   "cell_type": "code",
   "execution_count": 5,
   "metadata": {},
   "outputs": [],
   "source": [
    "\n",
    "file_name_male = open('name_English_male.txt', 'r') \n",
    "file_name_female = open('name_English_female.txt', 'r') \n",
    "\n",
    "file_meaning_male = open('meaning_English_male.txt', 'r') \n",
    "file_meaning_female = open('meaning_English_female.txt', 'r') \n",
    "\n",
    "\n",
    "names_male = []\n",
    "for line in file_name_male: \n",
    "    names_male.append(line[:-1]) #-1 to get rid of the \\n character\n",
    "names_female = []\n",
    "for line in file_name_female: \n",
    "    names_female.append(line[:-1]) #-1 to get rid of the \\n character\n",
    "\n",
    "\n",
    "\n",
    "meanings_male = []\n",
    "for line in file_meaning_male: \n",
    "    meanings_male.append(line[:-1]) #-1 to get rid of the \\n character\n",
    "meanings_female = []\n",
    "for line in file_meaning_female: \n",
    "    meanings_female.append(line[:-1]) #-1 to get rid of the \\n character\n",
    "\n",
    "\n",
    "file_name_male_ch = open('name_Chinese_male.txt', 'r') \n",
    "file_name_female_ch = open('name_Chinese_female.txt', 'r') \n",
    "\n",
    "file_meaning_male_ch = open('meaning_Chinese_male.txt', 'r') \n",
    "file_meaning_female_ch = open('meaning_Chinese_female.txt', 'r') \n",
    "\n",
    "\n",
    "names_male_ch = []\n",
    "for line in file_name_male_ch: \n",
    "    names_male_ch.append(line[:-1]) #-1 to get rid of the \\n character\n",
    "names_female_ch = []\n",
    "for line in file_name_female_ch: \n",
    "    names_female_ch.append(line[:-1]) #-1 to get rid of the \\n character\n",
    "\n",
    "\n",
    "\n",
    "meanings_male_ch = []\n",
    "for line in file_meaning_male_ch: \n",
    "    meanings_male_ch.append(line[:-1]) #-1 to get rid of the \\n character\n",
    "meanings_female_ch = []\n",
    "for line in file_meaning_female_ch: \n",
    "    meanings_female_ch.append(line[:-1]) #-1 to get rid of the \\n character\n",
    "\n",
    "\n"
   ]
  },
  {
   "cell_type": "code",
   "execution_count": 8,
   "metadata": {},
   "outputs": [
    {
     "name": "stdout",
     "output_type": "stream",
     "text": [
      "True\n",
      "[' Aaren', ' Aaric', ' Aaron', ' Aart', ' Aayden', ' Abacuck', ' Abbe', ' Abbo', ' Abell', ' Abhatha', ' Abhigita', ' Ablamar', ' Abo', ' Abygayle', ' Acer', ' Achaz', ' Achestan', ' Achim', ' Achraf', ' Ackerleigh']\n"
     ]
    }
   ],
   "source": [
    "userName = \"Aaren\"\n",
    "print(userName not in names_male)\n",
    "print(names_male[:20])"
   ]
  },
  {
   "cell_type": "code",
   "execution_count": 12,
   "metadata": {},
   "outputs": [
    {
     "name": "stdout",
     "output_type": "stream",
     "text": [
      "DONE\n"
     ]
    }
   ],
   "source": [
    "file1 = open('name_English_female.txt', 'w') \n",
    "file1copy = open('name_English_female_copy.txt', 'r') \n",
    "\n",
    "\n",
    "\n",
    "for line in file1copy:\n",
    "    newline = line[:-1]\n",
    "    newline = newline[1:]\n",
    "    file1.write(newline+\"\\n\")\n",
    "    \n",
    "\n",
    "file1.close()\n",
    "file1copy.close()\n",
    "print(\"DONE\")"
   ]
  },
  {
   "cell_type": "code",
   "execution_count": null,
   "metadata": {},
   "outputs": [],
   "source": []
  }
 ],
 "metadata": {
  "kernelspec": {
   "display_name": "Python 3",
   "language": "python",
   "name": "python3"
  },
  "language_info": {
   "codemirror_mode": {
    "name": "ipython",
    "version": 3
   },
   "file_extension": ".py",
   "mimetype": "text/x-python",
   "name": "python",
   "nbconvert_exporter": "python",
   "pygments_lexer": "ipython3",
   "version": "3.6.5"
  }
 },
 "nbformat": 4,
 "nbformat_minor": 2
}
