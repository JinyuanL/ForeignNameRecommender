{
 "cells": [
  {
   "cell_type": "code",
   "execution_count": 100,
   "metadata": {},
   "outputs": [],
   "source": [
    "\n",
    "import pinyin\n",
    "import argparse\n",
    "\n",
    "def toPinyin(s, rearrange=False):\n",
    "    s = s.strip()\n",
    "    chars = []\n",
    "    if rearrange:\n",
    "        firstname=s[1:]\n",
    "        lastname=s[0]\n",
    "        chars.append(pinyin.get(firstname, format=\"strip\", delimiter=\"-\").strip(\"-\"))\n",
    "        chars.append(pinyin.get(lastname, format=\"strip\", delimiter=\"-\"))\n",
    "    else:\n",
    "        chars+= pinyin.get(s, format=\"strip\", delimiter=\" \").split()\n",
    "    return \" \".join(map(lambda x: x.capitalize(), chars))\n",
    "\n",
    "def getEnglishLastName(lastname, num):\n",
    "    return toPinyin(lastname)\n",
    "\n",
    "\n",
    "def isEnglish(s):\n",
    "    try:\n",
    "        s.encode('ascii')\n",
    "    except UnicodeEncodeError:\n",
    "        return False\n",
    "    else:\n",
    "        return True"
   ]
  },
  {
   "cell_type": "code",
   "execution_count": 101,
   "metadata": {},
   "outputs": [],
   "source": [
    "# # 第一种方法：\n",
    "# import goslate\n",
    "\n",
    "# text = \"白\"\n",
    "\n",
    "# gs = goslate.Goslate()\n",
    "# translatedText = gs.translate(text,'en')\n",
    "\n",
    "# print(translatedText)\n",
    " "
   ]
  },
  {
   "cell_type": "code",
   "execution_count": 102,
   "metadata": {},
   "outputs": [],
   "source": [
    "# # 第二种方法，其实两个一样\n",
    "# import mtranslate as mt\n",
    "# mt.translate(\"李\",\"en\",\"ch\")\n",
    "# mt.translate(\"超\",\"en\",\"ch\")\n",
    "# mt.translate(\"绢\",\"en\",\"ch\")\n",
    "# mt.translate(\"绮\",\"en\",\"ch\")\n",
    "# print(mt.translate(\"靖\",\"en\",\"ch\") == toPinyin(\"靖\"))\n",
    "\n",
    "\n",
    "\n"
   ]
  },
  {
   "cell_type": "code",
   "execution_count": 103,
   "metadata": {},
   "outputs": [],
   "source": [
    "# #Small example\n",
    "# file = open('/Users/Mike/CS410/ChineseFirstNames.txt', 'r') \n",
    "\n",
    "# i=0\n",
    "\n",
    "# characters = []\n",
    "# for line in file:\n",
    "#     print(line)\n",
    "#     for k in range(0,len(line)-1):\n",
    "#         characters.append(line[k])\n",
    "#     i += 1\n",
    "#     print(i)\n",
    "#     if i > 3:\n",
    "#         break\n",
    "# #     if i % 5000 ==0:\n",
    "# #         print(i)\n",
    "    \n",
    "# print(\"Done!\")\n",
    "# print(characters)"
   ]
  },
  {
   "cell_type": "code",
   "execution_count": 104,
   "metadata": {},
   "outputs": [
    {
     "name": "stdout",
     "output_type": "stream",
     "text": [
      "5000\n",
      "10000\n",
      "15000\n",
      "20000\n",
      "25000\n",
      "30000\n",
      "35000\n",
      "40000\n",
      "45000\n",
      "50000\n",
      "55000\n",
      "60000\n",
      "65000\n",
      "70000\n",
      "75000\n",
      "80000\n",
      "85000\n",
      "90000\n",
      "95000\n",
      "100000\n",
      "105000\n",
      "110000\n",
      "115000\n",
      "120000\n",
      "Done!\n",
      "237689\n"
     ]
    }
   ],
   "source": [
    "file = open('/Users/Mike/CS410/ChineseFirstNames.txt', 'r') \n",
    "\n",
    "i=0\n",
    "\n",
    "characters = []\n",
    "for line in file:\n",
    "    for k in range(0,len(line)-1):\n",
    "        characters.append(line[k])\n",
    "    i += 1\n",
    "    if i % 5000 ==0:\n",
    "        print(i)\n",
    "    \n",
    "print(\"Done!\")\n",
    "print(len(characters))"
   ]
  },
  {
   "cell_type": "code",
   "execution_count": 105,
   "metadata": {},
   "outputs": [
    {
     "name": "stdout",
     "output_type": "stream",
     "text": [
      "['闳', '家', '玉', '璎', '于', '邺', '越', '英', '蕴', '萱', '子', '颀', '靖', '曦', '鲁', '莱', '永', '远', '红', '孙']\n"
     ]
    }
   ],
   "source": [
    "print(characters[:20])\n",
    "charSet = set(characters)"
   ]
  },
  {
   "cell_type": "code",
   "execution_count": 106,
   "metadata": {},
   "outputs": [
    {
     "name": "stdout",
     "output_type": "stream",
     "text": [
      "5496\n",
      "['屽', '尼', '既', '昕', '堇', '鹃', '洣', '焦', '慷', '匙', '班', '还', '畸', '议', '廓', '同', '稀', '幂', '涂', '音']\n"
     ]
    }
   ],
   "source": [
    "print(len(charSet))\n",
    "charList = list(charSet)\n",
    "print(charList[:20])"
   ]
  },
  {
   "cell_type": "code",
   "execution_count": 107,
   "metadata": {},
   "outputs": [
    {
     "name": "stdout",
     "output_type": "stream",
     "text": [
      "ChineseCharacters DONE!\n"
     ]
    }
   ],
   "source": [
    "file = open(\"ChineseCharacters.txt\", \"w\")\n",
    "for char in charList:\n",
    "    file.write(char + \"\\n\")\n",
    "file.close()\n",
    "\n",
    "print(\"ChineseCharacters DONE!\")"
   ]
  },
  {
   "cell_type": "code",
   "execution_count": 108,
   "metadata": {},
   "outputs": [
    {
     "name": "stdout",
     "output_type": "stream",
     "text": [
      "0\n",
      "100\n",
      "200\n",
      "300\n",
      "400\n",
      "500\n",
      "600\n",
      "700\n",
      "800\n",
      "900\n",
      "1000\n",
      "1100\n",
      "1200\n",
      "1300\n",
      "1400\n",
      "1500\n",
      "1600\n",
      "1700\n",
      "1800\n",
      "1900\n",
      "2000\n",
      "2100\n",
      "2200\n",
      "2300\n",
      "2400\n",
      "2500\n",
      "2600\n",
      "2700\n",
      "2800\n",
      "2900\n",
      "3000\n",
      "3100\n",
      "3200\n",
      "3300\n",
      "3400\n",
      "3500\n",
      "3600\n",
      "3700\n",
      "3800\n",
      "3900\n",
      "4000\n",
      "4100\n",
      "4200\n",
      "4300\n",
      "4400\n",
      "4500\n",
      "4600\n",
      "4700\n",
      "4800\n",
      "4900\n",
      "5000\n",
      "5100\n",
      "5200\n",
      "5300\n",
      "5400\n",
      "ChineseCharacters_meaning_draft DONE!\n"
     ]
    }
   ],
   "source": [
    "file = open(\"ChineseCharacters_meaning_draft.txt\", \"w\")\n",
    "for (i,char) in enumerate(charList):\n",
    "    meaning = mt.translate(char,\"en\",\"ch\")\n",
    "    py = toPinyin(char)\n",
    "    if meaning != py:\n",
    "        file.write(meaning + \"\\n\")\n",
    "    else:\n",
    "        file.write(\"\\n\")\n",
    "\n",
    "    if i %100 ==0:\n",
    "        print(i)\n",
    "file.close()\n",
    "\n",
    "print(\"ChineseCharacters_meaning_draft DONE!\")"
   ]
  },
  {
   "cell_type": "code",
   "execution_count": 109,
   "metadata": {},
   "outputs": [],
   "source": [
    "# # 用第一种方法试试快不快\n",
    "\n",
    "# import goslate\n",
    "# gs = goslate.Goslate()\n",
    " \n",
    "    \n",
    "# file = open(\"ChineseCharacters_meaning.txt\", \"w\")\n",
    "# for (i,char) in enumerate(charList):\n",
    "#     meaning = gs.translate(char,'en')\n",
    "#     file.write(meaning + \"\\n\")\n",
    "    \n",
    "#     if i %100 ==0:\n",
    "#         print(i)\n",
    "# file.close()\n",
    "\n",
    "# print(\"ChineseCharacters_meaning DONE!\")"
   ]
  },
  {
   "cell_type": "code",
   "execution_count": 110,
   "metadata": {},
   "outputs": [],
   "source": [
    "# for ch in charList[:10]:\n",
    "#     meaning = gs.translate(ch,'en')\n",
    "#     print(ch,meaning)\n",
    "\n"
   ]
  },
  {
   "cell_type": "code",
   "execution_count": 111,
   "metadata": {},
   "outputs": [
    {
     "name": "stdout",
     "output_type": "stream",
     "text": [
      "------\n",
      "屽\n",
      "屽\n",
      "Han\n",
      "0\n",
      "------\n",
      "尼\n",
      "Ni\n",
      "Ni\n",
      "------\n",
      "既\n",
      "Both\n",
      "Ji\n",
      "------\n",
      "昕\n",
      "昕\n",
      "Xin\n",
      "------\n",
      "堇\n",
      "堇\n",
      "Jin\n",
      "------\n",
      "鹃\n",
      "cuckoo\n",
      "Juan\n",
      "------\n",
      "洣\n",
      "洣\n",
      "Mi\n",
      "------\n",
      "焦\n",
      "focal\n",
      "Jiao\n",
      "------\n",
      "慷\n",
      "generous\n",
      "Kang\n",
      "------\n",
      "匙\n",
      "key, spoon\n",
      "Chi\n",
      "ChineseCharacters_meaning_draft DONE!\n"
     ]
    }
   ],
   "source": [
    "file = open(\"ChineseCharacters_meaning_draft.txt\", \"r\")\n",
    "for (i,char) in enumerate(charList[:10]):\n",
    "    print(\"------\")\n",
    "    print(char)\n",
    "    \n",
    "    meaning = mt.translate(char,\"en\",\"ch\")\n",
    "    py = toPinyin(char)\n",
    "    print(meaning)\n",
    "    print(py)\n",
    "#     if meaning != pinyin:\n",
    "#         file.write(meaning + \"\\n\")\n",
    "#     else:\n",
    "#         file.write(\"\\n\")\n",
    "\n",
    "    if i %100 ==0:\n",
    "        print(i)\n",
    "file.close()\n",
    "\n",
    "print(\"ChineseCharacters_meaning_draft DONE!\")"
   ]
  },
  {
   "cell_type": "code",
   "execution_count": 112,
   "metadata": {},
   "outputs": [],
   "source": [
    "# char = \"尼\"\n",
    "# m = mt.translate(char,\"en\",\"ch\")\n",
    "# p = toPinyin(char)\n",
    "# print(type(m))\n",
    "# print(m)\n",
    "# print(p)\n",
    "# print(m==p)"
   ]
  },
  {
   "cell_type": "code",
   "execution_count": null,
   "metadata": {},
   "outputs": [],
   "source": []
  }
 ],
 "metadata": {
  "kernelspec": {
   "display_name": "Python 3",
   "language": "python",
   "name": "python3"
  },
  "language_info": {
   "codemirror_mode": {
    "name": "ipython",
    "version": 3
   },
   "file_extension": ".py",
   "mimetype": "text/x-python",
   "name": "python",
   "nbconvert_exporter": "python",
   "pygments_lexer": "ipython3",
   "version": "3.6.5"
  }
 },
 "nbformat": 4,
 "nbformat_minor": 2
}
