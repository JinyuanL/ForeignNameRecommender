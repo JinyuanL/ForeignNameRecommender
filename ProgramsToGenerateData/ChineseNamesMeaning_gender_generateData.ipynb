{
 "cells": [
  {
   "cell_type": "code",
   "execution_count": 35,
   "metadata": {},
   "outputs": [],
   "source": [
    "ch_char_meaning_map = {}\n",
    "file_ch_chars = open('ChineseCharacters.txt', 'r') \n",
    "file_ch_meanings = open('ChineseCharacters_meaning.txt', 'r') \n",
    "\n",
    "\n",
    "for lineA, lineB in zip(file_ch_chars, file_ch_meanings):\n",
    "    ch_char_meaning_map[lineA[:-1]] = lineB[:-1]\n",
    "\n"
   ]
  },
  {
   "cell_type": "code",
   "execution_count": 36,
   "metadata": {},
   "outputs": [],
   "source": [
    "# userName=\"孝民\"\n",
    "\n",
    "# user_meaning = \"\"   \n",
    "# for c in userName:\n",
    "#     user_meaning += ch_char_meaning_map[c]\n",
    "#     user_meaning += \" \"\n",
    "# print(userName)\n",
    "# print(user_meaning)"
   ]
  },
  {
   "cell_type": "code",
   "execution_count": 37,
   "metadata": {},
   "outputs": [
    {
     "name": "stdout",
     "output_type": "stream",
     "text": [
      "DONE\n"
     ]
    }
   ],
   "source": [
    "file_name = open('/Users/Mike/CS410/ChineseFirstNames_Male.txt', 'r') \n",
    "file_meaning = open('meaning_Chinese_male.txt', 'w') \n",
    "\n",
    "\n",
    "\n",
    "for line in file_name:\n",
    "    userName = line[:-1]\n",
    "\n",
    "\n",
    "    user_meaning = \"\"   \n",
    "    for c in userName:\n",
    "        charMeaning = ch_char_meaning_map[c]\n",
    "        if charMeaning != \"\":\n",
    "            user_meaning += ch_char_meaning_map[c]\n",
    "            user_meaning += \" \"\n",
    "    file_meaning.write(user_meaning+\"\\n\")\n",
    "    \n",
    "\n",
    "file_meaning.close()\n",
    "print(\"DONE\")"
   ]
  },
  {
   "cell_type": "code",
   "execution_count": 38,
   "metadata": {},
   "outputs": [
    {
     "name": "stdout",
     "output_type": "stream",
     "text": [
      "DONE\n"
     ]
    }
   ],
   "source": [
    "file_name = open('/Users/Mike/CS410/ChineseFirstNames_Female.txt', 'r') \n",
    "file_meaning = open('meaning_Chinese_female.txt', 'w') \n",
    "\n",
    "\n",
    "\n",
    "for line in file_name:\n",
    "    userName = line[:-1]\n",
    "\n",
    "\n",
    "    user_meaning = \"\"   \n",
    "    for c in userName:\n",
    "        charMeaning = ch_char_meaning_map[c]\n",
    "        if charMeaning != \"\":\n",
    "            user_meaning += ch_char_meaning_map[c]\n",
    "            user_meaning += \" \"\n",
    "    file_meaning.write(user_meaning+\"\\n\")\n",
    "    \n",
    "\n",
    "file_meaning.close()\n",
    "print(\"DONE\")"
   ]
  },
  {
   "cell_type": "code",
   "execution_count": 39,
   "metadata": {},
   "outputs": [
    {
     "name": "stdout",
     "output_type": "stream",
     "text": [
      "None\n",
      "True\n"
     ]
    }
   ],
   "source": [
    "rt = ch_char_meaning_map.get('apples')\n",
    "print(rt)\n",
    "print(rt==None)"
   ]
  },
  {
   "cell_type": "code",
   "execution_count": null,
   "metadata": {},
   "outputs": [],
   "source": []
  }
 ],
 "metadata": {
  "kernelspec": {
   "display_name": "Python 3",
   "language": "python",
   "name": "python3"
  },
  "language_info": {
   "codemirror_mode": {
    "name": "ipython",
    "version": 3
   },
   "file_extension": ".py",
   "mimetype": "text/x-python",
   "name": "python",
   "nbconvert_exporter": "python",
   "pygments_lexer": "ipython3",
   "version": "3.6.5"
  }
 },
 "nbformat": 4,
 "nbformat_minor": 2
}
