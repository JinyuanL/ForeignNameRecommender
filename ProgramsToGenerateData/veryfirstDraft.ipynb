{
 "cells": [
  {
   "cell_type": "code",
   "execution_count": 63,
   "metadata": {},
   "outputs": [],
   "source": [
    "import pinyin\n",
    "import argparse\n",
    "\n",
    "\n",
    "# def isEnglish(s):\n",
    "#     try:\n",
    "#         s.encode('ascii')\n",
    "#     except UnicodeEncodeError:\n",
    "#         return False\n",
    "#     else:\n",
    "#         return True\n",
    "\n",
    "def toPinyin(s, rearrange=False):\n",
    "    s = s.strip()\n",
    "#     if isEnglish(s):\n",
    "#         return s\n",
    "\n",
    "    chars = []\n",
    "    if rearrange:\n",
    "        firstname=s[1:]\n",
    "        lastname=s[0]\n",
    "        chars.append(pinyin.get(firstname, format=\"strip\", delimiter=\"-\").strip(\"-\"))\n",
    "        chars.append(pinyin.get(lastname, format=\"strip\", delimiter=\"-\"))\n",
    "    else:\n",
    "        chars+= pinyin.get(s, format=\"strip\", delimiter=\" \").split()\n",
    "    return \" \".join(map(lambda x: x.capitalize(), chars))\n",
    "\n"
   ]
  },
  {
   "cell_type": "code",
   "execution_count": 64,
   "metadata": {},
   "outputs": [],
   "source": [
    "import difflib\n",
    "\n",
    "#Initialize EnglishNames list\n",
    "file = open('EnglishFirstNames.txt', 'r') \n",
    "EnglishNames = []\n",
    "for line in file: \n",
    "    EnglishNames.append(line[:-1]) #-1 to get rid of the \\n character\n",
    "\n",
    "    \n",
    "#Initialize ChineseNames list\n",
    "file = open('ChineseFirstNames.txt', 'r') \n",
    "ChineseNames = []\n",
    "for (i,line) in enumerate(file): \n",
    "    ChineseNames.append(line[:-1]) #-1 to get rid of the \\n character\n",
    "    \n",
    "#Convert all ChineseNames to PinyinNames list\n",
    "PinyinNames = []\n",
    "for name in ChineseNames:\n",
    "    PinyinNames.append(toPinyin(name, False))\n",
    "    \n",
    "\n",
    "def getChineseNames(EnglishName, num):\n",
    "    names = difflib.get_close_matches(EnglishName, PinyinNames,n=num, cutoff=0.0)\n",
    "    print(\"Hi %s, here are your %d recommendation for a Chinese name: \" % (EnglishName, num))\n",
    "    print(names)\n",
    "\n",
    "# print(difflib.get_close_matches('xiaoming', ChineseNames,n=5, cutoff=0.0))\n",
    "# print(difflib.get_close_matches('xiaoming', PinyinNames,n=5, cutoff=0.0))\n",
    "\n",
    "\n",
    "\n",
    "\n"
   ]
  },
  {
   "cell_type": "code",
   "execution_count": null,
   "metadata": {},
   "outputs": [],
   "source": []
  },
  {
   "cell_type": "code",
   "execution_count": 69,
   "metadata": {},
   "outputs": [
    {
     "name": "stdout",
     "output_type": "stream",
     "text": [
      "4945\n",
      "9800\n",
      "9800\n",
      "<class 'str'>\n",
      "<class 'str'>\n"
     ]
    }
   ],
   "source": [
    "print(len(EnglishNames))\n",
    "print(len(ChineseNames))\n",
    "print(len(PinyinNames))\n",
    "print(type(PinyinNames[2]))\n",
    "print(type('hell'))"
   ]
  },
  {
   "cell_type": "code",
   "execution_count": 66,
   "metadata": {},
   "outputs": [
    {
     "name": "stdout",
     "output_type": "stream",
     "text": [
      "Hi Jordan, here are your 8 recommendation for a Chinese name: \n",
      "['Mo Fan', 'Tao Er Kang', 'Yu Juan', 'Yao Nan', 'Yao Lan', 'Xu Juan', 'Wu Jian', 'Tao Ran']\n"
     ]
    }
   ],
   "source": [
    "getChineseNames('Jordan', 8)"
   ]
  },
  {
   "cell_type": "code",
   "execution_count": null,
   "metadata": {},
   "outputs": [],
   "source": []
  },
  {
   "cell_type": "code",
   "execution_count": null,
   "metadata": {},
   "outputs": [],
   "source": []
  },
  {
   "cell_type": "code",
   "execution_count": null,
   "metadata": {},
   "outputs": [],
   "source": []
  }
 ],
 "metadata": {
  "kernelspec": {
   "display_name": "Python 3",
   "language": "python",
   "name": "python3"
  },
  "language_info": {
   "codemirror_mode": {
    "name": "ipython",
    "version": 3
   },
   "file_extension": ".py",
   "mimetype": "text/x-python",
   "name": "python",
   "nbconvert_exporter": "python",
   "pygments_lexer": "ipython3",
   "version": "3.6.5"
  }
 },
 "nbformat": 4,
 "nbformat_minor": 2
}
