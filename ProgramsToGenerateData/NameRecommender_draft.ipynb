{
 "cells": [
  {
   "cell_type": "code",
   "execution_count": 105,
   "metadata": {},
   "outputs": [],
   "source": [
    "import pinyin\n",
    "import argparse\n",
    "\n",
    "\n",
    "def isEnglish(s):\n",
    "    try:\n",
    "        s.encode('ascii')\n",
    "    except UnicodeEncodeError:\n",
    "        return False\n",
    "    else:\n",
    "        return True\n",
    "\n",
    "def toPinyin(s, rearrange=False):\n",
    "    s = s.strip()\n",
    "#     if isEnglish(s):\n",
    "#         return s\n",
    "\n",
    "    chars = []\n",
    "    if rearrange:\n",
    "        firstname=s[1:]\n",
    "        lastname=s[0]\n",
    "        chars.append(pinyin.get(firstname, format=\"strip\", delimiter=\"-\").strip(\"-\"))\n",
    "        chars.append(pinyin.get(lastname, format=\"strip\", delimiter=\"-\"))\n",
    "    else:\n",
    "        chars+= pinyin.get(s, format=\"strip\", delimiter=\" \").split()\n",
    "    return \" \".join(map(lambda x: x.capitalize(), chars))\n",
    "\n"
   ]
  },
  {
   "cell_type": "code",
   "execution_count": 106,
   "metadata": {},
   "outputs": [
    {
     "name": "stdout",
     "output_type": "stream",
     "text": [
      "4945\n",
      "9799\n",
      "9799\n"
     ]
    }
   ],
   "source": [
    "import difflib\n",
    "\n",
    "#Initialize EnglishNames list\n",
    "file = open('EnglishFirstNames.txt', 'r') \n",
    "EnglishNames = []\n",
    "for line in file: \n",
    "    EnglishNames.append(line[:-1]) #-1 to get rid of the \\n character\n",
    "\n",
    "    \n",
    "#Initialize ChineseNames list\n",
    "file = open('ChineseFirstNames.txt', 'r') \n",
    "ChineseNames = []\n",
    "for (i,line) in enumerate(file): \n",
    "    ChineseNames.append(line[:-1]) #-1 to get rid of the \\n character\n",
    "   \n",
    "   \n",
    "#Convert all ChineseNames to PinyinNames list\n",
    "PinyinNames = []\n",
    "PinyinChineseDict = {}\n",
    "for name in ChineseNames:\n",
    "    pinyinName = toPinyin(name, False)\n",
    "    PinyinNames.append(pinyinName)\n",
    "    PinyinChineseDict[pinyinName] = name\n",
    "    \n",
    "\n",
    "print(len(EnglishNames))\n",
    "print(len(ChineseNames))\n",
    "print(len(PinyinNames))\n",
    "\n"
   ]
  },
  {
   "cell_type": "code",
   "execution_count": 107,
   "metadata": {},
   "outputs": [],
   "source": [
    "def getChineseNames(EnglishName, num):\n",
    "    print(\"\\n-----------Method1: difflib------------\")\n",
    "    recPinyinNames = difflib.get_close_matches(EnglishName, PinyinNames,n=num, cutoff=0.0)\n",
    "    recChineseNames = []\n",
    "    for name in recPinyinNames:\n",
    "        recChineseNames.append(PinyinChineseDict[name])\n",
    "        \n",
    "    print(\"Hi %s, here are your %d recommendations for a Chinese name: \" % (EnglishName, num)) \n",
    "    print(recPinyinNames)\n",
    "    print(recChineseNames)\n",
    "\n",
    "# print(difflib.get_close_matches('xiaoming', ChineseNames,n=5, cutoff=0.0))\n",
    "# print(difflib.get_close_matches('xiaoming', PinyinNames,n=5, cutoff=0.0))\n",
    "\n",
    "\n",
    "\n"
   ]
  },
  {
   "cell_type": "code",
   "execution_count": 108,
   "metadata": {
    "scrolled": true
   },
   "outputs": [
    {
     "data": {
      "text/plain": [
       "0.6666666666666666"
      ]
     },
     "execution_count": 108,
     "metadata": {},
     "output_type": "execute_result"
    }
   ],
   "source": [
    "import Levenshtein\n",
    "import queue as Q\n",
    "\n",
    "\n",
    "def getChineseNames2(EnglishName, num):\n",
    "    print(\"\\n-----------Method2: Levenshtein------------\")\n",
    "    q = Q.PriorityQueue()\n",
    "    for pyname in PinyinNames:\n",
    "        similarity = Levenshtein.ratio(EnglishName, pyname)\n",
    "        q.put((-similarity,pyname))#python priority queue uses min heap, we use -similarity\n",
    "        \n",
    "    recPinyinNames=[]\n",
    "    for i in range(num):\n",
    "        ttuple = q.get()\n",
    "        print(ttuple)\n",
    "        recPinyinNames.append(ttuple[1])#get returns tuple if (priority,str)\n",
    "        \n",
    "    recChineseNames = [] \n",
    "    for name in recPinyinNames:\n",
    "        recChineseNames.append(PinyinChineseDict[name])\n",
    "    print(\"Hi %s, here are your %d recommendations for a Chinese name: \" % (EnglishName, num)) \n",
    "    print(recPinyinNames)\n",
    "    print(recChineseNames)\n",
    "    \n",
    "    \n",
    "    \n",
    "Levenshtein.ratio('hello', 'hi')\n",
    "Levenshtein.ratio('hello', 'helloworld')"
   ]
  },
  {
   "cell_type": "code",
   "execution_count": 109,
   "metadata": {},
   "outputs": [
    {
     "name": "stdout",
     "output_type": "stream",
     "text": [
      "\n",
      "-----------Method1: difflib------------\n",
      "Hi Jordan Allen, here are your 8 recommendations for a Chinese name: \n",
      "['Jiang Wen', 'Pan An', 'Jiang Feng', 'Jin Wen', 'Yang Ao Sen', 'Yang Wen', 'Yang Sen', 'Yan Zhen']\n",
      "['蒋文', '潘安', '姜峰', '金稳', '杨奥森', '杨雯', '杨森', '闫桢']\n",
      "\n",
      "-----------Method2: Levenshtein------------\n",
      "(-0.5714285714285714, 'Jiang Wen')\n",
      "(-0.5555555555555556, 'Pan An')\n",
      "(-0.5454545454545454, 'Jiang Feng')\n",
      "(-0.5263157894736842, 'Jin Wen')\n",
      "(-0.5217391304347826, 'Yang Ao Sen')\n",
      "(-0.5, 'Fang Wen')\n",
      "(-0.5, 'Guo Jian Wen')\n",
      "(-0.5, 'Jia Chen')\n",
      "Hi Jordan Allen, here are your 8 recommendations for a Chinese name: \n",
      "['Jiang Wen', 'Pan An', 'Jiang Feng', 'Jin Wen', 'Yang Ao Sen', 'Fang Wen', 'Guo Jian Wen', 'Jia Chen']\n",
      "['蒋文', '潘安', '姜峰', '金稳', '杨奥森', '方闻', '郭建雯', '贾陈']\n"
     ]
    }
   ],
   "source": [
    "getChineseNames('Jordan Allen', 8)\n",
    "getChineseNames2('Jordan Allen', 8)\n"
   ]
  },
  {
   "cell_type": "code",
   "execution_count": 110,
   "metadata": {},
   "outputs": [
    {
     "name": "stdout",
     "output_type": "stream",
     "text": [
      "\n",
      "-----------Method1: difflib------------\n",
      "Hi Jordan, here are your 8 recommendations for a Chinese name: \n",
      "['Mo Fan', 'Tao Er Kang', 'Yu Juan', 'Yao Nan', 'Yao Lan', 'Xu Juan', 'Wu Jian', 'Tao Ran']\n",
      "['莫凡', '陶而康', '于娟', '姚楠', '姚兰', '徐娟', '吴剑', '陶然']\n",
      "\n",
      "-----------Method2: Levenshtein------------\n",
      "(-0.5, 'Mo Fan')\n",
      "(-0.47058823529411764, 'Tao Er Kang')\n",
      "(-0.46153846153846156, 'Cao Han')\n",
      "(-0.46153846153846156, 'Du Juan')\n",
      "(-0.46153846153846156, 'Gao Han')\n",
      "(-0.46153846153846156, 'Gao Han')\n",
      "(-0.46153846153846156, 'Gao Han')\n",
      "(-0.46153846153846156, 'Guo Fan')\n",
      "Hi Jordan, here are your 8 recommendations for a Chinese name: \n",
      "['Mo Fan', 'Tao Er Kang', 'Cao Han', 'Du Juan', 'Gao Han', 'Gao Han', 'Gao Han', 'Guo Fan']\n",
      "['莫凡', '陶而康', '曹涵', '杜娟', '高寒', '高寒', '高寒', '郭凡']\n"
     ]
    }
   ],
   "source": [
    "getChineseNames('Jordan', 8)\n",
    "getChineseNames2('Jordan', 8)"
   ]
  },
  {
   "cell_type": "code",
   "execution_count": 111,
   "metadata": {},
   "outputs": [
    {
     "name": "stdout",
     "output_type": "stream",
     "text": [
      "\n",
      "Welcome to our Chinese Name Recommender System. \n",
      "Please enter your name:Marco\n",
      "\n",
      "Hello Marco! Please enter your age:18\n",
      "\n",
      "Now please enter the gender you want for the names:\n",
      "Enter \"M\" for Male and \"F\" for Female:\n",
      "m\n",
      "\n",
      "Almost there! How many Chinese names do you want our system to recommend?9\n",
      "\n",
      "-----------Method1: difflib------------\n",
      "Hi Jordan, here are your 9 recommendations for a Chinese name: \n",
      "['Mo Fan', 'Tao Er Kang', 'Yu Juan', 'Yao Nan', 'Yao Lan', 'Xu Juan', 'Wu Jian', 'Tao Ran', 'Tao Lan']\n",
      "['莫凡', '陶而康', '于娟', '姚楠', '姚兰', '徐娟', '吴剑', '陶然', '涛兰']\n",
      "\n",
      "-----------Method2: Levenshtein------------\n",
      "(-0.5454545454545454, 'Ma Hao')\n",
      "(-0.5454545454545454, 'Ma Yao')\n",
      "(-0.5454545454545454, 'Mao Lu')\n",
      "(-0.5454545454545454, 'Mao Yi')\n",
      "(-0.5454545454545454, 'Mao Yu')\n",
      "(-0.5, 'Ma Long')\n",
      "(-0.5, 'Ma Xiao')\n",
      "(-0.5, 'Ma Xiao')\n",
      "(-0.5, 'Mao Han')\n",
      "Hi Marco, here are your 9 recommendations for a Chinese name: \n",
      "['Ma Hao', 'Ma Yao', 'Mao Lu', 'Mao Yi', 'Mao Yu', 'Ma Long', 'Ma Xiao', 'Ma Xiao', 'Mao Han']\n",
      "['马浩', '马瑶', '毛璐', '毛翊', '毛雨', '马龙', '马霄', '马霄', '毛寒']\n"
     ]
    }
   ],
   "source": [
    "userName = input('\\nWelcome to our Chinese Name Recommender System. \\nPlease enter your name:')\n",
    "\n",
    "userAge = input('\\nHello %s! Please enter your age:' % (userName))\n",
    "\n",
    "print('\\nNow please enter the gender you want for the names:')\n",
    "print('Enter \"M\" for Male and \"F\" for Female:')\n",
    "userGender = input()\n",
    "\n",
    "num = input('\\nAlmost there! How many Chinese names do you want our system to recommend?')\n",
    "num = int(num)\n",
    "\n",
    "getChineseNames(\"Jordan\", num)\n",
    "getChineseNames2(userName, num)"
   ]
  },
  {
   "cell_type": "code",
   "execution_count": 112,
   "metadata": {},
   "outputs": [
    {
     "name": "stdout",
     "output_type": "stream",
     "text": [
      "The quick brown fox jumps over the lazy dog\n",
      "The quick brown fox jumps over the lazy dog\n",
      "The quick brown fox jumps over the lazy dog\n"
     ]
    }
   ],
   "source": [
    "# import colorama\n",
    "# from colorama import Fore, Back, Style\n",
    "\n",
    "# colorama.init()\n",
    "\n",
    "# text = \"The quick brown fox jumps over the lazy dog\"\n",
    "\n",
    "# print(Fore.RED + text)\n",
    "# print(Back.CYAN + text + Style.RESET_ALL)\n",
    "# print(text)"
   ]
  },
  {
   "cell_type": "code",
   "execution_count": 113,
   "metadata": {},
   "outputs": [
    {
     "name": "stdout",
     "output_type": "stream",
     "text": [
      "Enter \"M\" for Male and \"F\" for Female:\n",
      "af\n"
     ]
    }
   ],
   "source": [
    "print('Enter \"M\" for Male and \"F\" for Female:')\n",
    "userGender = input()\n",
    "if(userGender == \"M\") or (userGender == \"Male\"):\n",
    "    userGender = \"M\"\n",
    "else:\n",
    "    userGender = \"F\""
   ]
  },
  {
   "cell_type": "code",
   "execution_count": 120,
   "metadata": {},
   "outputs": [
    {
     "data": {
      "text/plain": [
       "array([1])"
      ]
     },
     "execution_count": 120,
     "metadata": {},
     "output_type": "execute_result"
    }
   ],
   "source": []
  },
  {
   "cell_type": "code",
   "execution_count": 117,
   "metadata": {},
   "outputs": [
    {
     "data": {
      "text/plain": [
       "array([1, 1, 1])"
      ]
     },
     "execution_count": 117,
     "metadata": {},
     "output_type": "execute_result"
    }
   ],
   "source": []
  },
  {
   "cell_type": "code",
   "execution_count": 118,
   "metadata": {},
   "outputs": [
    {
     "data": {
      "text/plain": [
       "array([0.8245    , 0.51245455, 0.85      ])"
      ]
     },
     "execution_count": 118,
     "metadata": {},
     "output_type": "execute_result"
    }
   ],
   "source": []
  },
  {
   "cell_type": "code",
   "execution_count": null,
   "metadata": {},
   "outputs": [],
   "source": []
  },
  {
   "cell_type": "code",
   "execution_count": null,
   "metadata": {},
   "outputs": [],
   "source": []
  },
  {
   "cell_type": "code",
   "execution_count": null,
   "metadata": {},
   "outputs": [],
   "source": []
  }
 ],
 "metadata": {
  "kernelspec": {
   "display_name": "Python 3",
   "language": "python",
   "name": "python3"
  },
  "language_info": {
   "codemirror_mode": {
    "name": "ipython",
    "version": 3
   },
   "file_extension": ".py",
   "mimetype": "text/x-python",
   "name": "python",
   "nbconvert_exporter": "python",
   "pygments_lexer": "ipython3",
   "version": "3.6.5"
  }
 },
 "nbformat": 4,
 "nbformat_minor": 2
}
