{
 "cells": [
  {
   "cell_type": "code",
   "execution_count": 8,
   "metadata": {},
   "outputs": [
    {
     "name": "stdout",
     "output_type": "stream",
     "text": [
      "White\n"
     ]
    }
   ],
   "source": [
    "# 第一种方法：\n",
    "import goslate\n",
    "\n",
    "text = \"白\"\n",
    "\n",
    "gs = goslate.Goslate()\n",
    "translatedText = gs.translate(text,'en')\n",
    "\n",
    "print(translatedText)\n",
    " "
   ]
  },
  {
   "cell_type": "code",
   "execution_count": 9,
   "metadata": {},
   "outputs": [
    {
     "data": {
      "text/plain": [
       "'super'"
      ]
     },
     "execution_count": 9,
     "metadata": {},
     "output_type": "execute_result"
    }
   ],
   "source": [
    "# 第二种方法，其实两个一样\n",
    "import mtranslate as mt\n",
    "mt.translate(\"李\",\"en\",\"ch\")\n",
    "mt.translate(\"超\",\"en\",\"ch\")"
   ]
  },
  {
   "cell_type": "code",
   "execution_count": 10,
   "metadata": {},
   "outputs": [],
   "source": [
    "import pinyin\n",
    "\n",
    "def toPinyin(s, rearrange=False):\n",
    "    s = s.strip()\n",
    "    chars = []\n",
    "    if rearrange:\n",
    "        firstname=s[1:]\n",
    "        lastname=s[0]\n",
    "        chars.append(pinyin.get(firstname, format=\"strip\", delimiter=\"-\").strip(\"-\"))\n",
    "        chars.append(pinyin.get(lastname, format=\"strip\", delimiter=\"-\"))\n",
    "    else:\n",
    "        chars+= pinyin.get(s, format=\"strip\", delimiter=\" \").split()\n",
    "    return \" \".join(map(lambda x: x.capitalize(), chars))\n",
    "\n",
    "\n",
    "\n",
    "def isEnglish(s):\n",
    "    try:\n",
    "        s.encode('ascii')\n",
    "    except UnicodeEncodeError:\n",
    "        return False\n",
    "    else:\n",
    "        return True\n"
   ]
  },
  {
   "cell_type": "code",
   "execution_count": 11,
   "metadata": {},
   "outputs": [
    {
     "name": "stdout",
     "output_type": "stream",
     "text": [
      "ChineseCharacters_meaning DONE!\n"
     ]
    }
   ],
   "source": [
    "file1 = open('ChineseCharacters_meaning_draft.txt', 'r') \n",
    "file2 = open(\"ChineseCharacters_meaning.txt\", \"w\")\n",
    "\n",
    "\n",
    "for (i,line) in enumerate(file1):\n",
    "    sentence = line[:-1]\n",
    "    \n",
    "    if isEnglish(sentence):\n",
    "        file2.write(sentence + \"\\n\")\n",
    "    else:\n",
    "#         file2.write(toPinyin(sentence) + \"\\n\")\n",
    "        file2.write(\"\\n\")\n",
    "\n",
    "\n",
    "\n",
    "file1.close()\n",
    "file2.close()\n",
    "\n",
    "\n",
    "\n",
    "print(\"ChineseCharacters_meaning DONE!\")"
   ]
  },
  {
   "cell_type": "code",
   "execution_count": null,
   "metadata": {},
   "outputs": [],
   "source": []
  }
 ],
 "metadata": {
  "kernelspec": {
   "display_name": "Python 3",
   "language": "python",
   "name": "python3"
  },
  "language_info": {
   "codemirror_mode": {
    "name": "ipython",
    "version": 3
   },
   "file_extension": ".py",
   "mimetype": "text/x-python",
   "name": "python",
   "nbconvert_exporter": "python",
   "pygments_lexer": "ipython3",
   "version": "3.6.5"
  }
 },
 "nbformat": 4,
 "nbformat_minor": 2
}
