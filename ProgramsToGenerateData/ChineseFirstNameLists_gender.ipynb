{
 "cells": [
  {
   "cell_type": "code",
   "execution_count": 13,
   "metadata": {},
   "outputs": [
    {
     "name": "stdout",
     "output_type": "stream",
     "text": [
      "genderArray Done!\n"
     ]
    }
   ],
   "source": [
    "import namesex\n",
    "ns = namesex.namesex()\n",
    "\n",
    "file = open('test.txt', 'r') \n",
    "names = []\n",
    "for line in file: \n",
    "    names.append(line[:-1]) #-1 to get rid of the \\n character\n",
    "genderArray = ns.predict(names)\n",
    "\n",
    "print(\"genderArray Done!\")"
   ]
  },
  {
   "cell_type": "code",
   "execution_count": 17,
   "metadata": {},
   "outputs": [
    {
     "name": "stdout",
     "output_type": "stream",
     "text": [
      "ChineseFirstNames_Male DONE!\n"
     ]
    }
   ],
   "source": [
    "file = open(\"ChineseFirstNames_Male.txt\", \"w\")\n",
    "for (i,isMale) in enumerate(genderArray):\n",
    "    if isMale==1:\n",
    "        file.write(names[i] + \"\\n\")\n",
    "file.close()\n",
    "\n",
    "print(\"ChineseFirstNames_Male DONE!\")"
   ]
  },
  {
   "cell_type": "code",
   "execution_count": 18,
   "metadata": {},
   "outputs": [
    {
     "name": "stdout",
     "output_type": "stream",
     "text": [
      "ChineseFirstNames_Female DONE!\n"
     ]
    }
   ],
   "source": [
    "file = open(\"ChineseFirstNames_Female.txt\", \"w\")\n",
    "for (i,isMale) in enumerate(genderArray):\n",
    "    if isMale==0:\n",
    "        file.write(names[i] + \"\\n\")\n",
    "file.close()\n",
    "\n",
    "print(\"ChineseFirstNames_Female DONE!\")"
   ]
  },
  {
   "cell_type": "code",
   "execution_count": 16,
   "metadata": {},
   "outputs": [
    {
     "name": "stdout",
     "output_type": "stream",
     "text": [
      "[1 0 1]\n",
      "<class 'numpy.ndarray'>\n"
     ]
    }
   ],
   "source": [
    "# ret = ns.predict(['民豪', '小花', '志明'])\n",
    "# print(ret)\n",
    "# print(type(ret))"
   ]
  },
  {
   "cell_type": "code",
   "execution_count": null,
   "metadata": {},
   "outputs": [],
   "source": []
  },
  {
   "cell_type": "code",
   "execution_count": null,
   "metadata": {},
   "outputs": [],
   "source": []
  }
 ],
 "metadata": {
  "kernelspec": {
   "display_name": "Python 3",
   "language": "python",
   "name": "python3"
  },
  "language_info": {
   "codemirror_mode": {
    "name": "ipython",
    "version": 3
   },
   "file_extension": ".py",
   "mimetype": "text/x-python",
   "name": "python",
   "nbconvert_exporter": "python",
   "pygments_lexer": "ipython3",
   "version": "3.6.5"
  }
 },
 "nbformat": 4,
 "nbformat_minor": 2
}
